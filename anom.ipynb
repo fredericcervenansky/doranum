{
 "cells": [
  {
   "cell_type": "code",
   "metadata": {
    "collapsed": true,
    "pycharm": {
     "name": "#%%\n",
     "is_executing": true
    }
   },
   "source": [
    "# Description:\n",
    "# Author: Frederic Cervenansky < frederic.cervenansky@creatis.insa-lyon.fr>\n",
    "#\n",
    "# Licence Cecill-B\n",
    "# Copyright (C) Creatis 2017-2023\n",
    "\n",
    "\n",
    "\n",
    "#######################################################\n",
    "import pydicom\n",
    "from pydicom import Dataset\n",
    "\n",
    "def anonymize_dicom(input_path, output_path):\n",
    "    # Load DICOM image\n",
    "    ds = pydicom.dcmread(input_path)\n",
    "\n",
    "    # Remove or alter any identifying fields\n",
    "    ds.PatientName = \"ANONYMOUS\"\n",
    "    ds.PatientID = \"00000000\"\n",
    "    ds.PatientBirthDate = \"19000101\"\n",
    "    ds.InstitutionName = \"ANONYMOUS\"\n",
    "    # Add any other fields that need to be anonymized\n",
    "\n",
    "    # Save the anonymized DICOM image\n",
    "    ds.save_as(output_path)\n",
    "\n",
    "# Example usage\n",
    "input_file = \"path/to/input.dcm\"\n",
    "output_file = \"path/to/output.dcm\"\n"
   ],
   "execution_count": null,
   "outputs": []
  },
  {
   "cell_type": "code",
   "execution_count": null,
   "outputs": [],
   "source": [
    "# Example usage\n",
    "input_file = \"input_file.dcm\"\n",
    "output_file = \"output_file.dcm\"\n",
    "ds = pydicom.dcmread(input_file)\n",
    "print(ds)"
   ],
   "metadata": {
    "collapsed": false,
    "pycharm": {
     "name": "#%%\n",
     "is_executing": true
    }
   }
  },
  {
   "cell_type": "code",
   "execution_count": null,
   "outputs": [],
   "source": [
    "ds.PatientName = \"ANONYMOUS\"\n",
    "ds.PatientID = \"00000000\"\n",
    "ds.PatientBirthDate = \"19000101\"\n",
    "ds.InstitutionName = \"ANONYMOUS\"\n",
    "ds.save_as(output_file)\n",
    "print(ds)"
   ],
   "metadata": {
    "collapsed": false,
    "pycharm": {
     "name": "#%%\n",
     "is_executing": true
    }
   }
  }
 ],
 "metadata": {
  "kernelspec": {
   "display_name": "Python 3",
   "language": "python",
   "name": "python3"
  },
  "language_info": {
   "codemirror_mode": {
    "name": "ipython",
    "version": 2
   },
   "file_extension": ".py",
   "mimetype": "text/x-python",
   "name": "python",
   "nbconvert_exporter": "python",
   "pygments_lexer": "ipython2",
   "version": "2.7.6"
  }
 },
 "nbformat": 4,
 "nbformat_minor": 0
}