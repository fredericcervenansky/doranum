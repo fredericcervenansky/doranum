{
 "cells": [
  {
   "cell_type": "code",
   "metadata": {
    "collapsed": true,
    "pycharm": {
     "name": "#%%\n",
     "is_executing": true
    }
   },
   "source": [
    "# Description:\n",
    "# Author: Frederic Cervenansky < frederic.cervenansky@creatis.insa-lyon.fr>\n",
    "#\n",
    "# Licence Cecill-B\n",
    "# Copyright (C) Creatis 2017-2023\n",
    "\n",
    "\n",
    "\n",
    "#######################################################\n",
    "import pydicom\n",
    "from pydicom import Dataset\n",
    "\n",
    "# Example lecture fichier DiCOM et affichage des tags\n",
    "input_file = \"doranum.dcm\"\n",
    "output_file = \"output.dcm\"\n",
    "ds = pydicom.dcmread(input_file)\n",
    "print(ds)"
   ],
   "execution_count": null,
   "outputs": []
  },
  {
   "cell_type": "code",
   "execution_count": null,
   "outputs": [],
   "source": [
    "#example de suppression d'un tag\n",
    "if \"Manufacturer\" in ds:\n",
    "    delattr(ds, \"Manufacturer\")\n",
    "print(ds)"
   ],
   "metadata": {
    "collapsed": false,
    "pycharm": {
     "name": "#%%\n"
    }
   }
  },
  {
   "cell_type": "code",
   "execution_count": null,
   "outputs": [],
   "source": [
    "#example de remplacement de tags\n",
    "ds.PatientName = \"JOHN DOE\"\n",
    "ds.PatientID = \"00000000\"\n",
    "ds.PatientBirthDate = \"19000101\"\n",
    "ds.InstitutionName = \"COCK COUNTY\"\n",
    "ds.save_as(output_file)\n",
    "print(ds)"
   ],
   "metadata": {
    "collapsed": false,
    "pycharm": {
     "name": "#%%\n",
     "is_executing": true
    }
   }
  }
 ],
 "metadata": {
  "kernelspec": {
   "display_name": "Python 3",
   "language": "python",
   "name": "python3"
  },
  "language_info": {
   "codemirror_mode": {
    "name": "ipython",
    "version": 2
   },
   "file_extension": ".py",
   "mimetype": "text/x-python",
   "name": "python",
   "nbconvert_exporter": "python",
   "pygments_lexer": "ipython2",
   "version": "2.7.6"
  }
 },
 "nbformat": 4,
 "nbformat_minor": 0
}